{
 "cells": [
  {
   "cell_type": "code",
   "execution_count": 1,
   "id": "329140fe-39d2-46ba-807e-5b39425bdefd",
   "metadata": {},
   "outputs": [],
   "source": [
    "import random"
   ]
  },
  {
   "cell_type": "code",
   "execution_count": 3,
   "id": "43092c14-e580-4a13-ac23-b671500e4d47",
   "metadata": {},
   "outputs": [],
   "source": [
    "import string"
   ]
  },
  {
   "cell_type": "code",
   "execution_count": 5,
   "id": "27ae7ba9-fe4c-43d4-a19b-4b8e03482cb6",
   "metadata": {},
   "outputs": [],
   "source": [
    "def get_user_preferences():\n",
    "    length=int(input(\"Enter desired password length:\"))\n",
    "\n",
    "    use_letters=input(\"Include letters? (y/n):\").lower()=='y'\n",
    "    use_numbers=input(\"Include numbers? (y/n):\").lower()=='y'\n",
    "    use_symbols=input(\"Include symbols? (y/n):\").lower()=='y'\n",
    "\n",
    "    if not(use_letters or use_numbers or use_symbols):\n",
    "        print(\"You must select at least one character type!\")\n",
    "        return get_user_preferences()\n",
    "\n",
    "    return length,use_letters,use_numbers,use_symbols"
   ]
  },
  {
   "cell_type": "code",
   "execution_count": 9,
   "id": "f164fa52-94a2-4eaf-9178-481422ca7ff3",
   "metadata": {},
   "outputs": [],
   "source": [
    "def generate_password(length,use_letters,use_numbers,use_symbols):\n",
    "    characters=''\n",
    "    if use_letters:\n",
    "        characters += string.ascii_letters\n",
    "    if use_numbers:\n",
    "        characters += string.digits\n",
    "    if use_symbols:\n",
    "        characters += string.punctuation\n",
    "\n",
    "    password=''.join(random.choice(characters) for _ in range(length))\n",
    "    return password"
   ]
  },
  {
   "cell_type": "code",
   "execution_count": 13,
   "id": "e15ffe0e-6b95-490f-bea6-8fbccc7ad1f6",
   "metadata": {},
   "outputs": [
    {
     "name": "stdin",
     "output_type": "stream",
     "text": [
      "Enter desired password length: 10\n",
      "Include letters? (y/n): y\n",
      "Include numbers? (y/n): y\n",
      "Include symbols? (y/n): y\n"
     ]
    },
    {
     "name": "stdout",
     "output_type": "stream",
     "text": [
      "Your generated password:fmcat,1Im~\n"
     ]
    }
   ],
   "source": [
    "length,use_letters,use_numbers,use_symbols=get_user_preferences()\n",
    "password=generate_password(length,use_letters,use_numbers,use_symbols)\n",
    "print(f\"Your generated password:{password}\")"
   ]
  },
  {
   "cell_type": "code",
   "execution_count": null,
   "id": "bd3a5f80-bf05-44e5-8562-a1fc16876479",
   "metadata": {},
   "outputs": [],
   "source": []
  }
 ],
 "metadata": {
  "kernelspec": {
   "display_name": "Python [conda env:base] *",
   "language": "python",
   "name": "conda-base-py"
  },
  "language_info": {
   "codemirror_mode": {
    "name": "ipython",
    "version": 3
   },
   "file_extension": ".py",
   "mimetype": "text/x-python",
   "name": "python",
   "nbconvert_exporter": "python",
   "pygments_lexer": "ipython3",
   "version": "3.12.7"
  }
 },
 "nbformat": 4,
 "nbformat_minor": 5
}
