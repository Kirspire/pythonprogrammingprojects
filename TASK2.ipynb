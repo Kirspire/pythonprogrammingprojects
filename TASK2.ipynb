{
 "cells": [
  {
   "cell_type": "code",
   "execution_count": 18,
   "id": "93745616-0a6f-4652-98fc-ee16f2859cd8",
   "metadata": {},
   "outputs": [],
   "source": [
    "def calculate_bmi(weight, height):\n",
    "    bmi = weight / (height ** 2)\n",
    "    return round(bmi, 2)\n",
    "\n",
    "def categorize_bmi(bmi):\n",
    "    if bmi < 18.5:\n",
    "        return \"Underweight\"\n",
    "    elif 18.5 <= bmi < 24.9:\n",
    "        return \"Normal weight\"\n",
    "    elif 25 <= bmi < 29.9:\n",
    "        return \"Overweight\"\n",
    "    else:\n",
    "        return \"Obese\"\n",
    "\n",
    "def get_user_input():\n",
    "    try:\n",
    "        weight = float(input(\"Enter your weight in kilograms (e.g. 70): \"))\n",
    "        height = float(input(\"Enter your height in meters (e.g. 1.75): \"))\n",
    "        \n",
    "        if weight <= 0 or height <= 0:\n",
    "            print(\"Weight and height must be greater than 0.\")\n",
    "            return None\n",
    "        \n",
    "        return weight, height\n",
    "    \n",
    "    except ValueError:\n",
    "        print(\"Please enter valid numeric values.\")\n",
    "        return None\n",
    "\n",
    "def run_bmi_calculator():\n",
    "    user_data = get_user_input()\n",
    "    \n",
    "    if user_data is None:\n",
    "        print(\"BMI calculation aborted due to invalid input.\")\n",
    "        return\n",
    "    \n",
    "    weight, height = user_data\n",
    "    bmi = calculate_bmi(weight, height)\n",
    "    category = categorize_bmi(bmi)\n",
    "\n",
    "    print(f\"\\nYour BMI is: {bmi}\")\n",
    "    print(f\"Category: {category}\")\n"
   ]
  },
  {
   "cell_type": "code",
   "execution_count": 20,
   "id": "34ff056c-21ac-4f93-968c-8780eb592c23",
   "metadata": {},
   "outputs": [
    {
     "name": "stdin",
     "output_type": "stream",
     "text": [
      "Enter your weight in kilograms (e.g. 70):  80\n",
      "Enter your height in meters (e.g. 1.75):  6.02\n"
     ]
    },
    {
     "name": "stdout",
     "output_type": "stream",
     "text": [
      "\n",
      "Your BMI is: 2.21\n",
      "Category: Underweight\n"
     ]
    }
   ],
   "source": [
    "run_bmi_calculator()"
   ]
  },
  {
   "cell_type": "code",
   "execution_count": null,
   "id": "821cd733-c024-4618-bf3b-3ca6f29494ed",
   "metadata": {},
   "outputs": [],
   "source": []
  }
 ],
 "metadata": {
  "kernelspec": {
   "display_name": "Python [conda env:base] *",
   "language": "python",
   "name": "conda-base-py"
  },
  "language_info": {
   "codemirror_mode": {
    "name": "ipython",
    "version": 3
   },
   "file_extension": ".py",
   "mimetype": "text/x-python",
   "name": "python",
   "nbconvert_exporter": "python",
   "pygments_lexer": "ipython3",
   "version": "3.12.7"
  }
 },
 "nbformat": 4,
 "nbformat_minor": 5
}
