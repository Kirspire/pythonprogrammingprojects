{
 "cells": [
  {
   "cell_type": "code",
   "execution_count": null,
   "id": "6212a166-6693-484d-aa04-a39eb2a51b17",
   "metadata": {},
   "outputs": [],
   "source": [
    "!pip install SpeechRecognition"
   ]
  },
  {
   "cell_type": "code",
   "execution_count": 7,
   "id": "f70ddf67-36aa-4257-81fd-180647d3584b",
   "metadata": {},
   "outputs": [
    {
     "name": "stdout",
     "output_type": "stream",
     "text": [
      "Requirement already satisfied: pyttsx3 in d:\\users\\asus\\anaconda3\\lib\\site-packages (2.98)\n",
      "Requirement already satisfied: comtypes in d:\\users\\asus\\anaconda3\\lib\\site-packages (from pyttsx3) (1.4.11)\n",
      "Requirement already satisfied: pypiwin32 in d:\\users\\asus\\anaconda3\\lib\\site-packages (from pyttsx3) (223)\n",
      "Requirement already satisfied: pywin32 in d:\\users\\asus\\anaconda3\\lib\\site-packages (from pyttsx3) (305.1)\n"
     ]
    }
   ],
   "source": [
    "!pip install pyttsx3"
   ]
  },
  {
   "cell_type": "code",
   "execution_count": 9,
   "id": "d0364426-bd8b-41c8-845b-2a75ae6933cf",
   "metadata": {},
   "outputs": [
    {
     "name": "stdout",
     "output_type": "stream",
     "text": [
      "Requirement already satisfied: pywhatkit in d:\\users\\asus\\anaconda3\\lib\\site-packages (5.4)\n",
      "Requirement already satisfied: Pillow in d:\\users\\asus\\anaconda3\\lib\\site-packages (from pywhatkit) (10.4.0)\n",
      "Requirement already satisfied: pyautogui in d:\\users\\asus\\anaconda3\\lib\\site-packages (from pywhatkit) (0.9.54)\n",
      "Requirement already satisfied: requests in d:\\users\\asus\\anaconda3\\lib\\site-packages (from pywhatkit) (2.32.3)\n",
      "Requirement already satisfied: wikipedia in d:\\users\\asus\\anaconda3\\lib\\site-packages (from pywhatkit) (1.4.0)\n",
      "Requirement already satisfied: Flask in d:\\users\\asus\\anaconda3\\lib\\site-packages (from pywhatkit) (3.0.3)\n",
      "Requirement already satisfied: Werkzeug>=3.0.0 in d:\\users\\asus\\anaconda3\\lib\\site-packages (from Flask->pywhatkit) (3.0.3)\n",
      "Requirement already satisfied: Jinja2>=3.1.2 in d:\\users\\asus\\anaconda3\\lib\\site-packages (from Flask->pywhatkit) (3.1.4)\n",
      "Requirement already satisfied: itsdangerous>=2.1.2 in d:\\users\\asus\\anaconda3\\lib\\site-packages (from Flask->pywhatkit) (2.2.0)\n",
      "Requirement already satisfied: click>=8.1.3 in d:\\users\\asus\\anaconda3\\lib\\site-packages (from Flask->pywhatkit) (8.1.7)\n",
      "Requirement already satisfied: blinker>=1.6.2 in d:\\users\\asus\\anaconda3\\lib\\site-packages (from Flask->pywhatkit) (1.6.2)\n",
      "Requirement already satisfied: pymsgbox in d:\\users\\asus\\anaconda3\\lib\\site-packages (from pyautogui->pywhatkit) (1.0.9)\n",
      "Requirement already satisfied: pytweening>=1.0.4 in d:\\users\\asus\\anaconda3\\lib\\site-packages (from pyautogui->pywhatkit) (1.2.0)\n",
      "Requirement already satisfied: pyscreeze>=0.1.21 in d:\\users\\asus\\anaconda3\\lib\\site-packages (from pyautogui->pywhatkit) (1.0.1)\n",
      "Requirement already satisfied: pygetwindow>=0.0.5 in d:\\users\\asus\\anaconda3\\lib\\site-packages (from pyautogui->pywhatkit) (0.0.9)\n",
      "Requirement already satisfied: mouseinfo in d:\\users\\asus\\anaconda3\\lib\\site-packages (from pyautogui->pywhatkit) (0.1.3)\n",
      "Requirement already satisfied: charset-normalizer<4,>=2 in d:\\users\\asus\\anaconda3\\lib\\site-packages (from requests->pywhatkit) (3.3.2)\n",
      "Requirement already satisfied: idna<4,>=2.5 in d:\\users\\asus\\anaconda3\\lib\\site-packages (from requests->pywhatkit) (3.7)\n",
      "Requirement already satisfied: urllib3<3,>=1.21.1 in d:\\users\\asus\\anaconda3\\lib\\site-packages (from requests->pywhatkit) (2.2.3)\n",
      "Requirement already satisfied: certifi>=2017.4.17 in d:\\users\\asus\\anaconda3\\lib\\site-packages (from requests->pywhatkit) (2025.1.31)\n",
      "Requirement already satisfied: beautifulsoup4 in d:\\users\\asus\\anaconda3\\lib\\site-packages (from wikipedia->pywhatkit) (4.12.3)\n",
      "Requirement already satisfied: colorama in d:\\users\\asus\\anaconda3\\lib\\site-packages (from click>=8.1.3->Flask->pywhatkit) (0.4.6)\n",
      "Requirement already satisfied: MarkupSafe>=2.0 in d:\\users\\asus\\anaconda3\\lib\\site-packages (from Jinja2>=3.1.2->Flask->pywhatkit) (2.1.3)\n",
      "Requirement already satisfied: pyrect in d:\\users\\asus\\anaconda3\\lib\\site-packages (from pygetwindow>=0.0.5->pyautogui->pywhatkit) (0.2.0)\n",
      "Requirement already satisfied: soupsieve>1.2 in d:\\users\\asus\\anaconda3\\lib\\site-packages (from beautifulsoup4->wikipedia->pywhatkit) (2.5)\n",
      "Requirement already satisfied: pyperclip in d:\\users\\asus\\anaconda3\\lib\\site-packages (from mouseinfo->pyautogui->pywhatkit) (1.9.0)\n"
     ]
    }
   ],
   "source": [
    "!pip install pywhatkit"
   ]
  },
  {
   "cell_type": "code",
   "execution_count": 11,
   "id": "3ebeb757-6df9-4262-bc6f-743960558c1a",
   "metadata": {},
   "outputs": [
    {
     "name": "stdout",
     "output_type": "stream",
     "text": [
      "Requirement already satisfied: wikipedia in d:\\users\\asus\\anaconda3\\lib\\site-packages (1.4.0)\n",
      "Requirement already satisfied: beautifulsoup4 in d:\\users\\asus\\anaconda3\\lib\\site-packages (from wikipedia) (4.12.3)\n",
      "Requirement already satisfied: requests<3.0.0,>=2.0.0 in d:\\users\\asus\\anaconda3\\lib\\site-packages (from wikipedia) (2.32.3)\n",
      "Requirement already satisfied: charset-normalizer<4,>=2 in d:\\users\\asus\\anaconda3\\lib\\site-packages (from requests<3.0.0,>=2.0.0->wikipedia) (3.3.2)\n",
      "Requirement already satisfied: idna<4,>=2.5 in d:\\users\\asus\\anaconda3\\lib\\site-packages (from requests<3.0.0,>=2.0.0->wikipedia) (3.7)\n",
      "Requirement already satisfied: urllib3<3,>=1.21.1 in d:\\users\\asus\\anaconda3\\lib\\site-packages (from requests<3.0.0,>=2.0.0->wikipedia) (2.2.3)\n",
      "Requirement already satisfied: certifi>=2017.4.17 in d:\\users\\asus\\anaconda3\\lib\\site-packages (from requests<3.0.0,>=2.0.0->wikipedia) (2025.1.31)\n",
      "Requirement already satisfied: soupsieve>1.2 in d:\\users\\asus\\anaconda3\\lib\\site-packages (from beautifulsoup4->wikipedia) (2.5)\n"
     ]
    }
   ],
   "source": [
    "!pip install wikipedia"
   ]
  },
  {
   "cell_type": "code",
   "execution_count": 13,
   "id": "168bf22f-9b28-4f1c-b0e3-fa1d2bee81ae",
   "metadata": {},
   "outputs": [
    {
     "name": "stdout",
     "output_type": "stream",
     "text": [
      "Requirement already satisfied: pyjokes in d:\\users\\asus\\anaconda3\\lib\\site-packages (0.8.3)\n"
     ]
    }
   ],
   "source": [
    "!pip install pyjokes"
   ]
  },
  {
   "cell_type": "code",
   "execution_count": 15,
   "id": "dad752e5-d409-4ff0-9a2d-bf5a10f02e9d",
   "metadata": {},
   "outputs": [
    {
     "name": "stdout",
     "output_type": "stream",
     "text": [
      "Collecting pyaudio\n",
      "  Downloading PyAudio-0.2.14-cp312-cp312-win_amd64.whl.metadata (2.7 kB)\n",
      "Downloading PyAudio-0.2.14-cp312-cp312-win_amd64.whl (164 kB)\n",
      "Installing collected packages: pyaudio\n",
      "Successfully installed pyaudio-0.2.14\n"
     ]
    }
   ],
   "source": [
    "!pip install pyaudio"
   ]
  },
  {
   "cell_type": "code",
   "execution_count": 17,
   "id": "62c97783-4029-4edc-a4c8-7903ff145e46",
   "metadata": {},
   "outputs": [],
   "source": [
    "import speech_recognition as sr\n"
   ]
  },
  {
   "cell_type": "code",
   "execution_count": 19,
   "id": "911ff2d4-37d0-4181-9da5-be977e762d3c",
   "metadata": {},
   "outputs": [],
   "source": [
    "import pyttsx3"
   ]
  },
  {
   "cell_type": "code",
   "execution_count": 21,
   "id": "91ee1257-4e4d-4856-a6cc-fa5abf02372d",
   "metadata": {},
   "outputs": [],
   "source": [
    "import datetime"
   ]
  },
  {
   "cell_type": "code",
   "execution_count": 23,
   "id": "6affb246-1c13-4c26-83e9-e3cd13a7532d",
   "metadata": {},
   "outputs": [],
   "source": [
    "import wikipedia"
   ]
  },
  {
   "cell_type": "code",
   "execution_count": 25,
   "id": "94bb173a-1464-40c6-af5c-50fbdbb2827b",
   "metadata": {},
   "outputs": [],
   "source": [
    "import pywhatkit"
   ]
  },
  {
   "cell_type": "code",
   "execution_count": 27,
   "id": "95323142-8ab9-4936-b5f7-5f1076a21879",
   "metadata": {},
   "outputs": [],
   "source": [
    "import pyjokes"
   ]
  },
  {
   "cell_type": "code",
   "execution_count": 29,
   "id": "74188c2f-e641-4668-bbbb-7506cfb70e6f",
   "metadata": {},
   "outputs": [],
   "source": [
    "engine=pyttsx3.init()\n",
    "engine.setProperty('rate',150)\n",
    "engine.setProperty('volume',1.0)\n",
    "\n",
    "def speak(text):\n",
    "    engine.say(text)\n",
    "    engine.runAndWait()"
   ]
  },
  {
   "cell_type": "code",
   "execution_count": 31,
   "id": "66005830-82f0-47ee-b60a-f42bf871f437",
   "metadata": {},
   "outputs": [],
   "source": [
    "#Set up listening with microphone"
   ]
  },
  {
   "cell_type": "code",
   "execution_count": 33,
   "id": "11e9d201-6059-4522-ba04-f9c0a28aac21",
   "metadata": {},
   "outputs": [],
   "source": [
    "def take_command():\n",
    "    listener=sr.Recognizer()\n",
    "    with sr.Microphone() as source:\n",
    "        print(\"Listening...\")\n",
    "        try:\n",
    "            voice=listener.listen(source,timeout=5)\n",
    "            command=listener.recognize_google(voice)\n",
    "            command=command.lower()\n",
    "            print(f\"You said:{command}\")\n",
    "            return command\n",
    "        except sr.UnknownValueError:\n",
    "            speak(\"Sorry,I did not understand.\")\n",
    "        except sr.WaitTimeoutError:\n",
    "            speak(\"No voice detected.\")\n",
    "            return \"\"\n",
    "            "
   ]
  },
  {
   "cell_type": "code",
   "execution_count": 35,
   "id": "fc986fa2-cc82-4712-84a8-4dffde70fa05",
   "metadata": {},
   "outputs": [],
   "source": [
    "#Define what the assistant can do"
   ]
  },
  {
   "cell_type": "code",
   "execution_count": 37,
   "id": "1aa546ba-5c86-42ef-a92c-9180094fc2b6",
   "metadata": {},
   "outputs": [],
   "source": [
    "def run_assistant():\n",
    "    command=take_command()\n",
    "    if 'hello' in command:\n",
    "        speak(\"Hello there! How can I help you?\")\n",
    "\n",
    "    elif 'time' in command:\n",
    "        time=datetime.datetime.now().strftime('%I:%M%p')\n",
    "        speak(f\"The time is {time}\")\n",
    "\n",
    "    elif 'date' in command:\n",
    "        date=datetime.datetime.now().strftime('%A,%B,%d,%Y')\n",
    "        speak(f\"Today is {date}\")\n",
    "\n",
    "    elif 'who is' in command:\n",
    "        person=command.replace('who is','')\n",
    "        info=wikipedia.summary(person,sentences=1)\n",
    "        speak(info)\n",
    "\n",
    "    elif 'search' in command:\n",
    "        topic=command.replace('search','')\n",
    "        speak(f\"searching for {topic}\")\n",
    "        pywhatkit.search(topic)\n",
    "\n",
    "    elif 'joke' in command:\n",
    "        joke=pyjokes.get_joke()\n",
    "        speak(joke)\n",
    "\n",
    "    elif 'exit' in command or 'bye' in command:\n",
    "        speak(\"Goodbye!\")\n",
    "        return False\n",
    "\n",
    "    else:\n",
    "        speak(\"Sorry,I don't understand that command.\")\n",
    "\n",
    "    return True"
   ]
  },
  {
   "cell_type": "code",
   "execution_count": 43,
   "id": "6656e2ba-63e2-4dfb-be00-ba4278ddf38a",
   "metadata": {},
   "outputs": [
    {
     "name": "stdout",
     "output_type": "stream",
     "text": [
      "Listening...\n",
      "You said:hello\n",
      "Listening...\n",
      "You said:goodbye\n"
     ]
    }
   ],
   "source": [
    "while True:\n",
    "    if not run_assistant():\n",
    "        break"
   ]
  },
  {
   "cell_type": "code",
   "execution_count": null,
   "id": "a3fb1762-6375-4a5e-87af-ad5b26398a1a",
   "metadata": {},
   "outputs": [],
   "source": []
  }
 ],
 "metadata": {
  "kernelspec": {
   "display_name": "Python [conda env:base] *",
   "language": "python",
   "name": "conda-base-py"
  },
  "language_info": {
   "codemirror_mode": {
    "name": "ipython",
    "version": 3
   },
   "file_extension": ".py",
   "mimetype": "text/x-python",
   "name": "python",
   "nbconvert_exporter": "python",
   "pygments_lexer": "ipython3",
   "version": "3.12.7"
  }
 },
 "nbformat": 4,
 "nbformat_minor": 5
}
